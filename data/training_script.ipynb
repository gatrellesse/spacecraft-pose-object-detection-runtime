{
 "cells": [
  {
   "cell_type": "markdown",
   "metadata": {},
   "source": [
    "*This file contains all code used for: creating dataset, adjusting dataset and training the model*"
   ]
  },
  {
   "cell_type": "markdown",
   "metadata": {},
   "source": [
    "# Dataset Manipulating"
   ]
  },
  {
   "cell_type": "markdown",
   "metadata": {},
   "source": [
    "### To create coords in Yolo format"
   ]
  },
  {
   "cell_type": "code",
   "execution_count": 1,
   "metadata": {},
   "outputs": [
    {
     "ename": "UnidentifiedImageError",
     "evalue": "cannot identify image file 'C://Users//DELL/Desktop//Data_Driven_NASA_Challenge//spacecraft-pose-object-detection-runtime//data//images\\\\data.yaml'",
     "output_type": "error",
     "traceback": [
      "\u001b[1;31m---------------------------------------------------------------------------\u001b[0m",
      "\u001b[1;31mUnidentifiedImageError\u001b[0m                    Traceback (most recent call last)",
      "Input \u001b[1;32mIn [1]\u001b[0m, in \u001b[0;36m<cell line: 20>\u001b[1;34m()\u001b[0m\n\u001b[0;32m     20\u001b[0m \u001b[38;5;28;01mfor\u001b[39;00m file \u001b[38;5;129;01min\u001b[39;00m os\u001b[38;5;241m.\u001b[39mlistdir(folder_image_path):\n\u001b[0;32m     21\u001b[0m     img_path \u001b[38;5;241m=\u001b[39m os\u001b[38;5;241m.\u001b[39mpath\u001b[38;5;241m.\u001b[39mjoin(folder_image_path, file)\n\u001b[1;32m---> 22\u001b[0m     dimensions \u001b[38;5;241m=\u001b[39m \u001b[43mget_image_dimensions\u001b[49m\u001b[43m(\u001b[49m\u001b[43mimg_path\u001b[49m\u001b[43m)\u001b[49m\n\u001b[0;32m     23\u001b[0m     \u001b[38;5;28;01mif\u001b[39;00m dimensions \u001b[38;5;241m!=\u001b[39m (\u001b[38;5;241m1280\u001b[39m,\u001b[38;5;241m1024\u001b[39m) :\n\u001b[0;32m     24\u001b[0m         count \u001b[38;5;241m+\u001b[39m\u001b[38;5;241m=\u001b[39m\u001b[38;5;241m1\u001b[39m\n",
      "Input \u001b[1;32mIn [1]\u001b[0m, in \u001b[0;36mget_image_dimensions\u001b[1;34m(image_path)\u001b[0m\n\u001b[0;32m     10\u001b[0m \u001b[38;5;28;01mdef\u001b[39;00m \u001b[38;5;21mget_image_dimensions\u001b[39m(image_path):\n\u001b[1;32m---> 11\u001b[0m     \u001b[38;5;28;01mwith\u001b[39;00m \u001b[43mImage\u001b[49m\u001b[38;5;241;43m.\u001b[39;49m\u001b[43mopen\u001b[49m\u001b[43m(\u001b[49m\u001b[43mimage_path\u001b[49m\u001b[43m)\u001b[49m \u001b[38;5;28;01mas\u001b[39;00m img:\n\u001b[0;32m     12\u001b[0m         \u001b[38;5;66;03m# Get width and height\u001b[39;00m\n\u001b[0;32m     13\u001b[0m         width, height \u001b[38;5;241m=\u001b[39m img\u001b[38;5;241m.\u001b[39msize\n\u001b[0;32m     14\u001b[0m         \u001b[38;5;28;01mreturn\u001b[39;00m width, height\n",
      "File \u001b[1;32m~\\anaconda3\\lib\\site-packages\\PIL\\Image.py:3008\u001b[0m, in \u001b[0;36mopen\u001b[1;34m(fp, mode, formats)\u001b[0m\n\u001b[0;32m   3006\u001b[0m \u001b[38;5;28;01mfor\u001b[39;00m message \u001b[38;5;129;01min\u001b[39;00m accept_warnings:\n\u001b[0;32m   3007\u001b[0m     warnings\u001b[38;5;241m.\u001b[39mwarn(message)\n\u001b[1;32m-> 3008\u001b[0m \u001b[38;5;28;01mraise\u001b[39;00m UnidentifiedImageError(\n\u001b[0;32m   3009\u001b[0m     \u001b[38;5;124m\"\u001b[39m\u001b[38;5;124mcannot identify image file \u001b[39m\u001b[38;5;132;01m%r\u001b[39;00m\u001b[38;5;124m\"\u001b[39m \u001b[38;5;241m%\u001b[39m (filename \u001b[38;5;28;01mif\u001b[39;00m filename \u001b[38;5;28;01melse\u001b[39;00m fp)\n\u001b[0;32m   3010\u001b[0m )\n",
      "\u001b[1;31mUnidentifiedImageError\u001b[0m: cannot identify image file 'C://Users//DELL/Desktop//Data_Driven_NASA_Challenge//spacecraft-pose-object-detection-runtime//data//images\\\\data.yaml'"
     ]
    }
   ],
   "source": [
    "#First thing to do is get the dataset in train_labes.csv and transform in YOLO training format\n",
    "#Which is: <class_index> <x1> <y1> <x2> <y2> ...\n",
    "#Where the coordinates were normalized, so:\n",
    "  #X being the original bbox and x = X/img_width\n",
    "  #Y being the original bbox and y = Y/img_heigth\n",
    "\n",
    "import os\n",
    "from PIL import Image\n",
    "\n",
    "def get_image_dimensions(image_path):\n",
    "    with Image.open(image_path) as img:\n",
    "        # Get width and height\n",
    "        width, height = img.size\n",
    "        return width, height\n",
    "\n",
    "#Getting to know the size images\n",
    "folder_image_path = \"C://Users//DELL/Desktop//Data_Driven_NASA_Challenge//spacecraft-pose-object-detection-runtime//data//images\"\n",
    "count = 0\n",
    "\n",
    "for file in os.listdir(folder_image_path):\n",
    "    img_path = os.path.join(folder_image_path, file)\n",
    "    dimensions = get_image_dimensions(img_path)\n",
    "    if dimensions != (1280,1024) :\n",
    "        count +=1\n",
    "        print(file,dimensions)\n",
    "if count == 0:\n",
    "    print(\"All \", len(os.listdir(folder_image_path)),\" images has (1280,1024) size ratio\")\n"
   ]
  },
  {
   "cell_type": "code",
   "execution_count": 25,
   "metadata": {
    "scrolled": false
   },
   "outputs": [
    {
     "name": "stdout",
     "output_type": "stream",
     "text": [
      "Total txts:  25801\n"
     ]
    },
    {
     "data": {
      "text/html": [
       "<div>\n",
       "<style scoped>\n",
       "    .dataframe tbody tr th:only-of-type {\n",
       "        vertical-align: middle;\n",
       "    }\n",
       "\n",
       "    .dataframe tbody tr th {\n",
       "        vertical-align: top;\n",
       "    }\n",
       "\n",
       "    .dataframe thead th {\n",
       "        text-align: right;\n",
       "    }\n",
       "</style>\n",
       "<table border=\"1\" class=\"dataframe\">\n",
       "  <thead>\n",
       "    <tr style=\"text-align: right;\">\n",
       "      <th></th>\n",
       "      <th>image_id</th>\n",
       "      <th>xmin</th>\n",
       "      <th>ymin</th>\n",
       "      <th>xmax</th>\n",
       "      <th>ymax</th>\n",
       "    </tr>\n",
       "  </thead>\n",
       "  <tbody>\n",
       "    <tr>\n",
       "      <th>0</th>\n",
       "      <td>0001954c9f4a58f7ac05358b3cda8d20</td>\n",
       "      <td>0</td>\n",
       "      <td>277</td>\n",
       "      <td>345</td>\n",
       "      <td>709</td>\n",
       "    </tr>\n",
       "    <tr>\n",
       "      <th>1</th>\n",
       "      <td>00054819240f9d46378288b215dbcd3a</td>\n",
       "      <td>753</td>\n",
       "      <td>602</td>\n",
       "      <td>932</td>\n",
       "      <td>725</td>\n",
       "    </tr>\n",
       "    <tr>\n",
       "      <th>2</th>\n",
       "      <td>000dbf763348037b46558bbcb6a032ac</td>\n",
       "      <td>160</td>\n",
       "      <td>434</td>\n",
       "      <td>203</td>\n",
       "      <td>481</td>\n",
       "    </tr>\n",
       "    <tr>\n",
       "      <th>3</th>\n",
       "      <td>000e79208bebd8e84ce6c22fd8612a0d</td>\n",
       "      <td>70</td>\n",
       "      <td>534</td>\n",
       "      <td>211</td>\n",
       "      <td>586</td>\n",
       "    </tr>\n",
       "    <tr>\n",
       "      <th>4</th>\n",
       "      <td>000f13aff94499d03e3997afc55b0aa0</td>\n",
       "      <td>103</td>\n",
       "      <td>0</td>\n",
       "      <td>312</td>\n",
       "      <td>193</td>\n",
       "    </tr>\n",
       "  </tbody>\n",
       "</table>\n",
       "</div>"
      ],
      "text/plain": [
       "                           image_id  xmin  ymin  xmax  ymax\n",
       "0  0001954c9f4a58f7ac05358b3cda8d20     0   277   345   709\n",
       "1  00054819240f9d46378288b215dbcd3a   753   602   932   725\n",
       "2  000dbf763348037b46558bbcb6a032ac   160   434   203   481\n",
       "3  000e79208bebd8e84ce6c22fd8612a0d    70   534   211   586\n",
       "4  000f13aff94499d03e3997afc55b0aa0   103     0   312   193"
      ]
     },
     "execution_count": 25,
     "metadata": {},
     "output_type": "execute_result"
    }
   ],
   "source": [
    "import pandas as pd\n",
    "\n",
    "csv_path = \"C://Users//DELL/Desktop//Data_Driven_NASA_Challenge//spacecraft-pose-object-detection-runtime//data//train_labels.csv\"\n",
    "df = pd.read_csv(csv_path)\n",
    "print(\"Total txts: \",len(df))\n",
    "df.head()\n"
   ]
  },
  {
   "cell_type": "markdown",
   "metadata": {},
   "source": [
    "Before doing any manipulating it is necessary to see all images have annotations and vice versa"
   ]
  },
  {
   "cell_type": "code",
   "execution_count": 26,
   "metadata": {},
   "outputs": [
    {
     "data": {
      "text/html": [
       "<div>\n",
       "<style scoped>\n",
       "    .dataframe tbody tr th:only-of-type {\n",
       "        vertical-align: middle;\n",
       "    }\n",
       "\n",
       "    .dataframe tbody tr th {\n",
       "        vertical-align: top;\n",
       "    }\n",
       "\n",
       "    .dataframe thead th {\n",
       "        text-align: right;\n",
       "    }\n",
       "</style>\n",
       "<table border=\"1\" class=\"dataframe\">\n",
       "  <thead>\n",
       "    <tr style=\"text-align: right;\">\n",
       "      <th></th>\n",
       "      <th>image_id</th>\n",
       "      <th>xmin_YOLO</th>\n",
       "      <th>ymin_YOLO</th>\n",
       "      <th>xmax_YOLO</th>\n",
       "      <th>ymax_YOLO</th>\n",
       "    </tr>\n",
       "  </thead>\n",
       "  <tbody>\n",
       "    <tr>\n",
       "      <th>0</th>\n",
       "      <td>0001954c9f4a58f7ac05358b3cda8d20</td>\n",
       "      <td>0.000000</td>\n",
       "      <td>0.270508</td>\n",
       "      <td>0.269531</td>\n",
       "      <td>0.692383</td>\n",
       "    </tr>\n",
       "    <tr>\n",
       "      <th>1</th>\n",
       "      <td>00054819240f9d46378288b215dbcd3a</td>\n",
       "      <td>0.588281</td>\n",
       "      <td>0.587891</td>\n",
       "      <td>0.728125</td>\n",
       "      <td>0.708008</td>\n",
       "    </tr>\n",
       "    <tr>\n",
       "      <th>2</th>\n",
       "      <td>000dbf763348037b46558bbcb6a032ac</td>\n",
       "      <td>0.125000</td>\n",
       "      <td>0.423828</td>\n",
       "      <td>0.158594</td>\n",
       "      <td>0.469727</td>\n",
       "    </tr>\n",
       "    <tr>\n",
       "      <th>3</th>\n",
       "      <td>000e79208bebd8e84ce6c22fd8612a0d</td>\n",
       "      <td>0.054688</td>\n",
       "      <td>0.521484</td>\n",
       "      <td>0.164844</td>\n",
       "      <td>0.572266</td>\n",
       "    </tr>\n",
       "    <tr>\n",
       "      <th>4</th>\n",
       "      <td>000f13aff94499d03e3997afc55b0aa0</td>\n",
       "      <td>0.080469</td>\n",
       "      <td>0.000000</td>\n",
       "      <td>0.243750</td>\n",
       "      <td>0.188477</td>\n",
       "    </tr>\n",
       "  </tbody>\n",
       "</table>\n",
       "</div>"
      ],
      "text/plain": [
       "                           image_id  xmin_YOLO  ymin_YOLO  xmax_YOLO  \\\n",
       "0  0001954c9f4a58f7ac05358b3cda8d20   0.000000   0.270508   0.269531   \n",
       "1  00054819240f9d46378288b215dbcd3a   0.588281   0.587891   0.728125   \n",
       "2  000dbf763348037b46558bbcb6a032ac   0.125000   0.423828   0.158594   \n",
       "3  000e79208bebd8e84ce6c22fd8612a0d   0.054688   0.521484   0.164844   \n",
       "4  000f13aff94499d03e3997afc55b0aa0   0.080469   0.000000   0.243750   \n",
       "\n",
       "   ymax_YOLO  \n",
       "0   0.692383  \n",
       "1   0.708008  \n",
       "2   0.469727  \n",
       "3   0.572266  \n",
       "4   0.188477  "
      ]
     },
     "execution_count": 26,
     "metadata": {},
     "output_type": "execute_result"
    }
   ],
   "source": [
    "#Normalizing the coords\n",
    "img_width = 1280\n",
    "img_height = 1024\n",
    "df[\"xmin_YOLO\"] = df[\"xmin\"]/img_width\n",
    "df[\"ymin_YOLO\"] = df[\"ymin\"]/img_height\n",
    "df[\"xmax_YOLO\"] = df[\"xmax\"]/img_width\n",
    "df[\"ymax_YOLO\"] = df[\"ymax\"]/img_height\n",
    "#df.head()\n",
    "\n",
    "df_yolo = df.copy()\n",
    "df_yolo.drop([\"xmin\", \"ymin\", \"xmax\", \"ymax\"], axis = 1, inplace= True)\n",
    "df_yolo.head()"
   ]
  },
  {
   "cell_type": "markdown",
   "metadata": {},
   "source": [
    "### To create Txt files"
   ]
  },
  {
   "cell_type": "code",
   "execution_count": 27,
   "metadata": {},
   "outputs": [
    {
     "name": "stderr",
     "output_type": "stream",
     "text": [
      "25801it [00:54, 475.02it/s] \n"
     ]
    }
   ],
   "source": [
    "#Creating the Training Txts\n",
    "from tqdm import tqdm\n",
    "import os\n",
    "\n",
    "folder_txt_path = \"C://Users//DELL/Desktop//Data_Driven_NASA_Challenge//spacecraft-pose-object-detection-runtime//data//training_folders//txts_labels_undivided\"\n",
    "for i, filename in tqdm(enumerate(df[\"image_id\"])):\n",
    "    output_file_path = os.path.join(folder_txt_path, filename+\".txt\")\n",
    "    with open(output_file_path, 'w') as f:\n",
    "        class_index = 0 #only 1 class: Sattelite\n",
    "        xmin_YOLO = df[\"xmin_YOLO\"][i]\n",
    "        ymin_YOLO = df[\"ymin_YOLO\"][i]\n",
    "        xmax_YOLO = df[\"xmax_YOLO\"][i]\n",
    "        ymax_YOLO = df[\"ymax_YOLO\"][i]\n",
    "                        \n",
    "                        \n",
    "        line = f\"{class_index} {xmin_YOLO} {ymin_YOLO} {xmin_YOLO} {ymax_YOLO} {xmax_YOLO} {ymax_YOLO} {xmax_YOLO} {ymin_YOLO}\\n\"\n",
    "        f.write(line)"
   ]
  },
  {
   "cell_type": "markdown",
   "metadata": {},
   "source": [
    "### Preparing folders"
   ]
  },
  {
   "cell_type": "markdown",
   "metadata": {},
   "source": [
    "Before start the training, is necessary to set up the folder and the yaml file. For this, follow the structure bellow:\n",
    "\n",
    "Yolo_training\n",
    "|--file.yaml\n",
    "|-- train\n",
    "|   |-- images\n",
    "|   |-- labels\n",
    "|-- test\n",
    "|   |-- images\n",
    "|   |-- labels\n",
    "|-- valid\n",
    "|   |-- images\n",
    "|   |-- labels\n"
   ]
  },
  {
   "cell_type": "code",
   "execution_count": 7,
   "metadata": {},
   "outputs": [],
   "source": [
    "#Creating yaml file\n",
    "from pathlib import Path\n",
    "\n",
    "yaml_path = \"C://Users//DELL/Desktop//Data_Driven_NASA_Challenge//spacecraft-pose-object-detection-runtime//data//data.yaml\"\n",
    "#/path/to/dataset/images/train\n",
    "data_path = \"C://Users//DELL/Desktop//Data_Driven_NASA_Challenge//spacecraft-pose-object-detection-runtime//data//training_folders\"\n",
    "train_path = \"train//images\"\n",
    "#/path/to/dataset/images/val    \n",
    "val_path =  \"val//images\"\n",
    "#/path/to/dataset/images/test\n",
    "test_path = \"test//images\"\n",
    "nc = 1  # number of classes\n",
    "names = ['Sat']\n",
    "\n",
    "content = f\"path: {data_path}\\ntrain: {train_path}\\nval:   {val_path}\\ntest:  {test_path}\\nnc:    {nc}\\nnames: {names}\\n\"\n",
    "\n",
    "with Path(yaml_path).open('w') as f:\n",
    "    f.write(content)"
   ]
  },
  {
   "cell_type": "markdown",
   "metadata": {},
   "source": [
    "## Splitting by type"
   ]
  },
  {
   "cell_type": "code",
   "execution_count": 28,
   "metadata": {
    "scrolled": false
   },
   "outputs": [
    {
     "name": "stdout",
     "output_type": "stream",
     "text": [
      "Total txts:  25801\n"
     ]
    },
    {
     "data": {
      "text/html": [
       "<div>\n",
       "<style scoped>\n",
       "    .dataframe tbody tr th:only-of-type {\n",
       "        vertical-align: middle;\n",
       "    }\n",
       "\n",
       "    .dataframe tbody tr th {\n",
       "        vertical-align: top;\n",
       "    }\n",
       "\n",
       "    .dataframe thead th {\n",
       "        text-align: right;\n",
       "    }\n",
       "</style>\n",
       "<table border=\"1\" class=\"dataframe\">\n",
       "  <thead>\n",
       "    <tr style=\"text-align: right;\">\n",
       "      <th></th>\n",
       "      <th>image_id</th>\n",
       "      <th>spacecraft_id</th>\n",
       "      <th>background_id</th>\n",
       "    </tr>\n",
       "  </thead>\n",
       "  <tbody>\n",
       "    <tr>\n",
       "      <th>0</th>\n",
       "      <td>0001954c9f4a58f7ac05358b3cda8d20</td>\n",
       "      <td>24</td>\n",
       "      <td>247</td>\n",
       "    </tr>\n",
       "    <tr>\n",
       "      <th>1</th>\n",
       "      <td>00054819240f9d46378288b215dbcd3a</td>\n",
       "      <td>14</td>\n",
       "      <td>10</td>\n",
       "    </tr>\n",
       "    <tr>\n",
       "      <th>2</th>\n",
       "      <td>000dbf763348037b46558bbcb6a032ac</td>\n",
       "      <td>19</td>\n",
       "      <td>17</td>\n",
       "    </tr>\n",
       "    <tr>\n",
       "      <th>3</th>\n",
       "      <td>000e79208bebd8e84ce6c22fd8612a0d</td>\n",
       "      <td>14</td>\n",
       "      <td>15</td>\n",
       "    </tr>\n",
       "    <tr>\n",
       "      <th>4</th>\n",
       "      <td>000f13aff94499d03e3997afc55b0aa0</td>\n",
       "      <td>28</td>\n",
       "      <td>15</td>\n",
       "    </tr>\n",
       "  </tbody>\n",
       "</table>\n",
       "</div>"
      ],
      "text/plain": [
       "                           image_id  spacecraft_id  background_id\n",
       "0  0001954c9f4a58f7ac05358b3cda8d20             24            247\n",
       "1  00054819240f9d46378288b215dbcd3a             14             10\n",
       "2  000dbf763348037b46558bbcb6a032ac             19             17\n",
       "3  000e79208bebd8e84ce6c22fd8612a0d             14             15\n",
       "4  000f13aff94499d03e3997afc55b0aa0             28             15"
      ]
     },
     "execution_count": 28,
     "metadata": {},
     "output_type": "execute_result"
    }
   ],
   "source": [
    "#READING METADATA\n",
    "import pandas as pd\n",
    "\n",
    "csv_path = \"C://Users//DELL/Desktop//Data_Driven_NASA_Challenge//spacecraft-pose-object-detection-runtime//data//train_metadata.csv\"\n",
    "df = pd.read_csv(csv_path)\n",
    "print(\"Total txts: \",len(df))\n",
    "df.head()\n"
   ]
  },
  {
   "cell_type": "code",
   "execution_count": 29,
   "metadata": {},
   "outputs": [],
   "source": [
    "#CREATING LIST OF NAMES BY TYPE\n",
    "train_imgs_files =[]\n",
    "val_imgs_files = []\n",
    "test_imgs_files = []\n",
    "val_split = 0.1\n",
    "\n",
    "types_spc = list(set(df[\"spacecraft_id\"]))\n",
    "types_back = list(set(df[\"background_id\"]))\n",
    "\n",
    "for spc in types_spc:\n",
    "    filt_df = df[df[\"spacecraft_id\"] == spc]\n",
    "    count = 0\n",
    "    for img in filt_df[\"image_id\"]:\n",
    "        if count <= (1-2*val_split)*len(filt_df): #train\n",
    "            train_imgs_files.append(img)\n",
    "        elif (1-2*val_split)*len(filt_df) < count < (1-val_split)*len(filt_df): #val\n",
    "            val_imgs_files.append(img)\n",
    "        elif val_split*len(filt_df) <= count: #test\n",
    "            test_imgs_files.append(img)\n",
    "        count += 1"
   ]
  },
  {
   "cell_type": "code",
   "execution_count": 30,
   "metadata": {
    "scrolled": true
   },
   "outputs": [
    {
     "name": "stdout",
     "output_type": "stream",
     "text": [
      "20652 2576 2573\n"
     ]
    }
   ],
   "source": [
    "print(len(train_imgs_files), len(val_imgs_files), len(test_imgs_files) )"
   ]
  },
  {
   "cell_type": "code",
   "execution_count": 31,
   "metadata": {},
   "outputs": [
    {
     "data": {
      "text/plain": [
       "spacecraft_id\n",
       "2     1030\n",
       "3     1184\n",
       "5     1213\n",
       "6     1328\n",
       "11    1265\n",
       "13     959\n",
       "14    1381\n",
       "18    1477\n",
       "19    1421\n",
       "20    1467\n",
       "22    1313\n",
       "24    1677\n",
       "25    1644\n",
       "28    1683\n",
       "30    1610\n",
       "Name: count, dtype: int64"
      ]
     },
     "execution_count": 31,
     "metadata": {},
     "output_type": "execute_result"
    }
   ],
   "source": [
    "#TRAIN DATA BY TYPE\n",
    "tdf = df[df['image_id'].isin(train_imgs_files)]\n",
    "tdf[\"spacecraft_id\"].value_counts().sort_index()"
   ]
  },
  {
   "cell_type": "code",
   "execution_count": 32,
   "metadata": {
    "scrolled": true
   },
   "outputs": [
    {
     "data": {
      "text/plain": [
       "spacecraft_id\n",
       "2     129\n",
       "3     148\n",
       "5     151\n",
       "6     166\n",
       "11    157\n",
       "13    120\n",
       "14    172\n",
       "18    184\n",
       "19    177\n",
       "20    183\n",
       "22    163\n",
       "24    210\n",
       "25    205\n",
       "28    210\n",
       "30    201\n",
       "Name: count, dtype: int64"
      ]
     },
     "execution_count": 32,
     "metadata": {},
     "output_type": "execute_result"
    }
   ],
   "source": [
    "#VAL DATA BY TYPE\n",
    "tdf = df[df['image_id'].isin(val_imgs_files)]\n",
    "tdf[\"spacecraft_id\"].value_counts().sort_index()"
   ]
  },
  {
   "cell_type": "code",
   "execution_count": 33,
   "metadata": {},
   "outputs": [
    {
     "data": {
      "text/plain": [
       "spacecraft_id\n",
       "2     128\n",
       "3     147\n",
       "5     151\n",
       "6     165\n",
       "11    158\n",
       "13    119\n",
       "14    172\n",
       "18    184\n",
       "19    177\n",
       "20    183\n",
       "22    164\n",
       "24    209\n",
       "25    205\n",
       "28    210\n",
       "30    201\n",
       "Name: count, dtype: int64"
      ]
     },
     "execution_count": 33,
     "metadata": {},
     "output_type": "execute_result"
    }
   ],
   "source": [
    "#TEST DATA BY TYPE\n",
    "tdf = df[df['image_id'].isin(test_imgs_files)]\n",
    "tdf[\"spacecraft_id\"].value_counts().sort_index()"
   ]
  },
  {
   "cell_type": "code",
   "execution_count": 34,
   "metadata": {},
   "outputs": [
    {
     "name": "stderr",
     "output_type": "stream",
     "text": [
      "100%|████████████████████████████████████████████████████████████████████████████| 20652/20652 [06:16<00:00, 54.81it/s]\n",
      "100%|██████████████████████████████████████████████████████████████████████████████| 2576/2576 [00:37<00:00, 68.84it/s]\n",
      "100%|██████████████████████████████████████████████████████████████████████████████| 2573/2573 [00:48<00:00, 52.63it/s]\n"
     ]
    }
   ],
   "source": [
    "#MOVING THE TXT FILES\n",
    "#paths to txt folders\n",
    "import os \n",
    "from tqdm import tqdm\n",
    "import shutil\n",
    "    \n",
    "source_folder =  'C://Users//DELL/Desktop//Data_Driven_NASA_Challenge//spacecraft-pose-object-detection-runtime//data//training_folders//txts_labels_undivided'\n",
    "train_labels_destination_folder = \"C://Users//DELL/Desktop//Data_Driven_NASA_Challenge//spacecraft-pose-object-detection-runtime//data//training_folders//train//labels\"\n",
    "val_labels_destination_folder = \"C://Users//DELL/Desktop//Data_Driven_NASA_Challenge//spacecraft-pose-object-detection-runtime//data//training_folders//val//labels\"\n",
    "test_labels_destination_folder = \"C://Users//DELL/Desktop//Data_Driven_NASA_Challenge//spacecraft-pose-object-detection-runtime//data//training_folders//test//labels\"\n",
    "\n",
    "for file in tqdm(train_imgs_files):\n",
    "    source = os.path.join(source_folder, file+ \".txt\")\n",
    "    destination_path = os.path.join(train_labels_destination_folder, file+\".txt\")\n",
    "    shutil.move(source,destination_path)\n",
    "for file in tqdm(val_imgs_files):\n",
    "    source = os.path.join(source_folder, file+ \".txt\")\n",
    "    destination_path = os.path.join(val_labels_destination_folder, file+\".txt\")\n",
    "    shutil.move(source,destination_path)\n",
    "for file in tqdm(test_imgs_files):\n",
    "    source = os.path.join(source_folder, file+ \".txt\")\n",
    "    destination_path = os.path.join(test_labels_destination_folder, file+\".txt\")\n",
    "    shutil.move(source,destination_path)"
   ]
  },
  {
   "cell_type": "code",
   "execution_count": 13,
   "metadata": {},
   "outputs": [
    {
     "name": "stderr",
     "output_type": "stream",
     "text": [
      "100%|███████████████████████████████████████████████████████████████████████████| 20652/20652 [01:07<00:00, 304.28it/s]\n",
      "100%|█████████████████████████████████████████████████████████████████████████████| 2576/2576 [00:08<00:00, 310.70it/s]\n",
      "100%|█████████████████████████████████████████████████████████████████████████████| 2573/2573 [00:07<00:00, 358.51it/s]\n"
     ]
    }
   ],
   "source": [
    "#MOVING THE IMAGES\n",
    "#paths to txt folders\n",
    "import os \n",
    "from tqdm import tqdm\n",
    "import shutil\n",
    "    \n",
    "source_folder =  'C://Users//DELL/Desktop//Data_Driven_NASA_Challenge//spacecraft-pose-object-detection-runtime//data//images'\n",
    "train_labels_destination_folder = \"C://Users//DELL/Desktop//Data_Driven_NASA_Challenge//spacecraft-pose-object-detection-runtime//data//training_folders//train//images\"\n",
    "val_labels_destination_folder = \"C://Users//DELL/Desktop//Data_Driven_NASA_Challenge//spacecraft-pose-object-detection-runtime//data//training_folders//val//images\"\n",
    "test_labels_destination_folder = \"C://Users//DELL/Desktop//Data_Driven_NASA_Challenge//spacecraft-pose-object-detection-runtime//data//training_folders//test//images\"\n",
    "\n",
    "for file in tqdm(train_imgs_files):\n",
    "    source = os.path.join(source_folder, file+ \".png\")\n",
    "    destination_path = os.path.join(train_labels_destination_folder, file+\".png\")\n",
    "    shutil.move(source,destination_path)\n",
    "for file in tqdm(val_imgs_files):\n",
    "    source = os.path.join(source_folder, file+ \".png\")\n",
    "    destination_path = os.path.join(val_labels_destination_folder, file+\".png\")\n",
    "    shutil.move(source,destination_path)\n",
    "for file in tqdm(test_imgs_files):\n",
    "    source = os.path.join(source_folder, file+ \".png\")\n",
    "    destination_path = os.path.join(test_labels_destination_folder, file+\".png\")\n",
    "    shutil.move(source,destination_path)"
   ]
  },
  {
   "cell_type": "markdown",
   "metadata": {},
   "source": [
    "## TRAINING WITH THE SPLITTING DATA BY TYPE\n"
   ]
  },
  {
   "cell_type": "code",
   "execution_count": 2,
   "metadata": {},
   "outputs": [
    {
     "name": "stderr",
     "output_type": "stream",
     "text": [
      "C:\\Users\\DELL\\anaconda3\\lib\\site-packages\\pandas\\core\\computation\\expressions.py:21: UserWarning: Pandas requires version '2.8.4' or newer of 'numexpr' (version '2.8.1' currently installed).\n",
      "  from pandas.core.computation.check import NUMEXPR_INSTALLED\n",
      "C:\\Users\\DELL\\anaconda3\\lib\\site-packages\\pandas\\core\\arrays\\masked.py:60: UserWarning: Pandas requires version '1.3.6' or newer of 'bottleneck' (version '1.3.4' currently installed).\n",
      "  from pandas.core import (\n"
     ]
    }
   ],
   "source": [
    "#Loading pre-trained model\n",
    "from ultralytics import YOLO\n",
    "model = YOLO(\"C://Users//DELL//Desktop//Data_Driven_NASA_Challenge//spacecraft-pose-object-detection-runtime//data//runs//detect//train11/weights//best.pt\")"
   ]
  },
  {
   "cell_type": "code",
   "execution_count": null,
   "metadata": {
    "scrolled": true
   },
   "outputs": [
    {
     "name": "stdout",
     "output_type": "stream",
     "text": [
      "New https://pypi.org/project/ultralytics/8.2.8 available 😃 Update with 'pip install -U ultralytics'\n",
      "Ultralytics YOLOv8.1.11 🚀 Python-3.9.12 torch-2.2.1+cpu CPU (Intel Core(TM) i7-7500U 2.70GHz)\n",
      "\u001b[34m\u001b[1mengine\\trainer: \u001b[0mtask=detect, mode=train, model=C://Users//DELL//Desktop//Data_Driven_NASA_Challenge//spacecraft-pose-object-detection-runtime//data//runs//detect//train11/weights//best.pt, data=data.yaml, epochs=20, time=None, patience=50, batch=64, imgsz=640, save=True, save_period=-1, cache=False, device=None, workers=8, project=None, name=train12, exist_ok=False, pretrained=True, optimizer=auto, verbose=True, seed=0, deterministic=True, single_cls=True, rect=False, cos_lr=False, close_mosaic=10, resume=False, amp=True, fraction=1.0, profile=False, freeze=None, multi_scale=False, overlap_mask=True, mask_ratio=4, dropout=0.0, val=True, split=val, save_json=False, save_hybrid=False, conf=None, iou=0.7, max_det=300, half=False, dnn=False, plots=True, source=None, vid_stride=1, stream_buffer=False, visualize=False, augment=False, agnostic_nms=False, classes=None, retina_masks=False, embed=None, show=False, save_frames=False, save_txt=False, save_conf=False, save_crop=False, show_labels=True, show_conf=True, show_boxes=True, line_width=None, format=torchscript, keras=False, optimize=False, int8=False, dynamic=False, simplify=False, opset=None, workspace=4, nms=False, lr0=0.01, lrf=0.01, momentum=0.937, weight_decay=0.0005, warmup_epochs=3.0, warmup_momentum=0.8, warmup_bias_lr=0.1, box=7.5, cls=0.5, dfl=1.5, pose=12.0, kobj=1.0, label_smoothing=0.0, nbs=64, hsv_h=0.015, hsv_s=0.7, hsv_v=0.4, degrees=0.0, translate=0.1, scale=0.5, shear=0.0, perspective=0.0, flipud=0.0, fliplr=0.5, mosaic=1.0, mixup=0.0, copy_paste=0.0, auto_augment=randaugment, erasing=0.4, crop_fraction=1.0, cfg=None, tracker=botsort.yaml, save_dir=runs\\detect\\train12\n",
      "\n",
      "                   from  n    params  module                                       arguments                     \n",
      "  0                  -1  1       464  ultralytics.nn.modules.conv.Conv             [3, 16, 3, 2]                 \n",
      "  1                  -1  1      4672  ultralytics.nn.modules.conv.Conv             [16, 32, 3, 2]                \n",
      "  2                  -1  1      7360  ultralytics.nn.modules.block.C2f             [32, 32, 1, True]             \n",
      "  3                  -1  1     18560  ultralytics.nn.modules.conv.Conv             [32, 64, 3, 2]                \n",
      "  4                  -1  2     49664  ultralytics.nn.modules.block.C2f             [64, 64, 2, True]             \n",
      "  5                  -1  1     73984  ultralytics.nn.modules.conv.Conv             [64, 128, 3, 2]               \n",
      "  6                  -1  2    197632  ultralytics.nn.modules.block.C2f             [128, 128, 2, True]           \n",
      "  7                  -1  1    295424  ultralytics.nn.modules.conv.Conv             [128, 256, 3, 2]              \n",
      "  8                  -1  1    460288  ultralytics.nn.modules.block.C2f             [256, 256, 1, True]           \n",
      "  9                  -1  1    164608  ultralytics.nn.modules.block.SPPF            [256, 256, 5]                 \n",
      " 10                  -1  1         0  torch.nn.modules.upsampling.Upsample         [None, 2, 'nearest']          \n",
      " 11             [-1, 6]  1         0  ultralytics.nn.modules.conv.Concat           [1]                           \n",
      " 12                  -1  1    148224  ultralytics.nn.modules.block.C2f             [384, 128, 1]                 \n",
      " 13                  -1  1         0  torch.nn.modules.upsampling.Upsample         [None, 2, 'nearest']          \n",
      " 14             [-1, 4]  1         0  ultralytics.nn.modules.conv.Concat           [1]                           \n",
      " 15                  -1  1     37248  ultralytics.nn.modules.block.C2f             [192, 64, 1]                  \n",
      " 16                  -1  1     36992  ultralytics.nn.modules.conv.Conv             [64, 64, 3, 2]                \n",
      " 17            [-1, 12]  1         0  ultralytics.nn.modules.conv.Concat           [1]                           \n",
      " 18                  -1  1    123648  ultralytics.nn.modules.block.C2f             [192, 128, 1]                 \n",
      " 19                  -1  1    147712  ultralytics.nn.modules.conv.Conv             [128, 128, 3, 2]              \n",
      " 20             [-1, 9]  1         0  ultralytics.nn.modules.conv.Concat           [1]                           \n",
      " 21                  -1  1    493056  ultralytics.nn.modules.block.C2f             [384, 256, 1]                 \n",
      " 22        [15, 18, 21]  1    751507  ultralytics.nn.modules.head.Detect           [1, [64, 128, 256]]           \n",
      "YOLOv8n summary: 225 layers, 3011043 parameters, 3011027 gradients, 8.2 GFLOPs\n",
      "\n",
      "Transferred 355/355 items from pretrained weights\n",
      "\u001b[34m\u001b[1mTensorBoard: \u001b[0mStart with 'tensorboard --logdir runs\\detect\\train12', view at http://localhost:6006/\n",
      "Freezing layer 'model.22.dfl.conv.weight'\n"
     ]
    },
    {
     "name": "stderr",
     "output_type": "stream",
     "text": [
      "\u001b[34m\u001b[1mtrain: \u001b[0mScanning C:\\Users\\DELL\\Desktop\\Data_Driven_NASA_Challenge\\spacecraft-pose-object-detection-runtime\\data\\training\u001b[0m\n",
      "\u001b[34m\u001b[1mval: \u001b[0mScanning C:\\Users\\DELL\\Desktop\\Data_Driven_NASA_Challenge\\spacecraft-pose-object-detection-runtime\\data\\training_f\u001b[0m\n"
     ]
    },
    {
     "name": "stdout",
     "output_type": "stream",
     "text": [
      "Plotting labels to runs\\detect\\train12\\labels.jpg... \n",
      "\"No such keys(s): 'mode.use_inf_as_null'\"\n",
      "\u001b[34m\u001b[1moptimizer:\u001b[0m 'optimizer=auto' found, ignoring 'lr0=0.01' and 'momentum=0.937' and determining best 'optimizer', 'lr0' and 'momentum' automatically... \n",
      "\u001b[34m\u001b[1moptimizer:\u001b[0m AdamW(lr=0.002, momentum=0.9) with parameter groups 57 weight(decay=0.0), 64 weight(decay=0.0005), 63 bias(decay=0.0)\n",
      "\u001b[34m\u001b[1mTensorBoard: \u001b[0mmodel graph visualization added ✅\n",
      "Image sizes 640 train, 640 val\n",
      "Using 0 dataloader workers\n",
      "Logging results to \u001b[1mruns\\detect\\train12\u001b[0m\n",
      "Starting training for 20 epochs...\n",
      "\n",
      "      Epoch    GPU_mem   box_loss   cls_loss   dfl_loss  Instances       Size\n"
     ]
    },
    {
     "name": "stderr",
     "output_type": "stream",
     "text": [
      "       1/20         0G     0.7265     0.6017     0.9952         68        640: 100%|██████████| 323/323 [18:41:24<00:00\n",
      "                 Class     Images  Instances      Box(P          R      mAP50  mAP50-95): 100%|██████████| 21/21 [15:08"
     ]
    },
    {
     "name": "stdout",
     "output_type": "stream",
     "text": [
      "                   all       2576       2576      0.946      0.881       0.95      0.803\n"
     ]
    },
    {
     "name": "stderr",
     "output_type": "stream",
     "text": [
      "\n"
     ]
    },
    {
     "name": "stdout",
     "output_type": "stream",
     "text": [
      "\n",
      "      Epoch    GPU_mem   box_loss   cls_loss   dfl_loss  Instances       Size\n"
     ]
    },
    {
     "name": "stderr",
     "output_type": "stream",
     "text": [
      "       2/20         0G     0.7781     0.6468       1.02        120        640:  59%|█████▉    | 192/323 [4:48:40<3:16:5\n"
     ]
    }
   ],
   "source": [
    "# Train the model\n",
    "model.train(data=\"data.yaml\", epochs=20, imgsz=640, single_cls = True, batch = 64)"
   ]
  }
 ],
 "metadata": {
  "kernelspec": {
   "display_name": "Python 3 (ipykernel)",
   "language": "python",
   "name": "python3"
  },
  "language_info": {
   "codemirror_mode": {
    "name": "ipython",
    "version": 3
   },
   "file_extension": ".py",
   "mimetype": "text/x-python",
   "name": "python",
   "nbconvert_exporter": "python",
   "pygments_lexer": "ipython3",
   "version": "3.9.12"
  }
 },
 "nbformat": 4,
 "nbformat_minor": 2
}
